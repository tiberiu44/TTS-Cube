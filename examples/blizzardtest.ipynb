{
 "cells": [
  {
   "cell_type": "code",
   "execution_count": 1,
   "id": "ff49f7ed",
   "metadata": {},
   "outputs": [
    {
     "name": "stderr",
     "output_type": "stream",
     "text": [
      "/Users/boros/Projects/venv/lib/python3.10/site-packages/tqdm/auto.py:22: TqdmWarning: IProgress not found. Please update jupyter and ipywidgets. See https://ipywidgets.readthedocs.io/en/stable/user_install.html\n",
      "  from .autonotebook import tqdm as notebook_tqdm\n"
     ]
    }
   ],
   "source": [
    "import sys\n",
    "sys.path.append('../')\n",
    "sys.path.append('../hifigan')\n",
    "from cube.api import TTSCube"
   ]
  },
  {
   "cell_type": "code",
   "execution_count": null,
   "id": "a9be101b",
   "metadata": {},
   "outputs": [
    {
     "name": "stderr",
     "output_type": "stream",
     "text": [
      "Some weights of the model checkpoint at xlm-roberta-base were not used when initializing XLMRobertaModel: ['lm_head.dense.weight', 'lm_head.bias', 'lm_head.layer_norm.weight', 'lm_head.layer_norm.bias', 'lm_head.dense.bias', 'lm_head.decoder.weight']\n",
      "- This IS expected if you are initializing XLMRobertaModel from the checkpoint of a model trained on another task or with another architecture (e.g. initializing a BertForSequenceClassification model from a BertForPreTraining model).\n",
      "- This IS NOT expected if you are initializing XLMRobertaModel from the checkpoint of a model that you expect to be exactly identical (initializing a BertForSequenceClassification model from a BertForSequenceClassification model).\n"
     ]
    }
   ],
   "source": [
    "cube=TTSCube.load('blizzard2023-hf')"
   ]
  },
  {
   "cell_type": "code",
   "execution_count": null,
   "id": "040f9828",
   "metadata": {},
   "outputs": [],
   "source": []
  },
  {
   "cell_type": "code",
   "execution_count": null,
   "id": "27faf1e6",
   "metadata": {},
   "outputs": [],
   "source": []
  },
  {
   "cell_type": "code",
   "execution_count": null,
   "id": "e5730475",
   "metadata": {},
   "outputs": [],
   "source": []
  },
  {
   "cell_type": "code",
   "execution_count": null,
   "id": "687be454",
   "metadata": {},
   "outputs": [],
   "source": [
    "import IPython\n",
    "audio=cube('Bonjour!§§ Je suis un system artificialle.§', speaker='neb')\n",
    "IPython.display.Audio(data=audio, rate=24000)"
   ]
  },
  {
   "cell_type": "code",
   "execution_count": null,
   "id": "01901080",
   "metadata": {},
   "outputs": [],
   "source": [
    "audio=cube('Paris est la capitale de la France.§§ Divisée en vingt arrondissements, elle est le chef-lieu de la région Île-de-France et le siège de la métropole du Grand Paris.§§ Elle est établie au centre du Bassin parisien, sur une boucle de la Seine, entre les confluents avec la Marne et l\\'Oise.', speaker='neb')\n",
    "IPython.display.Audio(data=audio, rate=24000)"
   ]
  },
  {
   "cell_type": "code",
   "execution_count": null,
   "id": "81805649",
   "metadata": {},
   "outputs": [],
   "source": [
    "audio=cube(\"ALICE, assise auprès de sa sœur sur le gazon, commençait à s'ennuyer de rester là à ne rien faire; une ou deux fois elle avait jeté les yeux sur le livre que lisait sa sœur; mais quoi! pas d'images, pas de dialogues! \\\"La belle avance,\\\" pensait Alice, \\\"qu'un livre sans images, sans causeries!\\\".\", speaker='neb')\n",
    "IPython.display.Audio(data=audio, rate=24000)"
   ]
  },
  {
   "cell_type": "code",
   "execution_count": null,
   "id": "8cc17887",
   "metadata": {},
   "outputs": [],
   "source": [
    "audio=cube(\"\"\"Il n'y avait rien là de bien étonnant, et Alice ne trouva même pas\n",
    "très-extraordinaire d'entendre parler le Lapin qui se disait: \"Ah!§§\n",
    "j'arriverai trop tard!\"§§ (En y songeant après, il lui sembla bien\n",
    "qu'elle aurait dû s'en étonner, mais sur le moment cela lui avait paru\n",
    "tout naturel.) §§ Cependant, quand le Lapin vint à tirer une montre de\n",
    "son gousset, la regarda, puis se prit à courir de plus belle, Alice\n",
    "sauta sur ses pieds, frappée de cette idée que jamais elle n'avait vu\n",
    "de lapin avec un gousset et une montre. §§ Entraînée par la curiosité elle\n",
    "s'élança sur ses traces à travers le champ, et arriva tout juste à\n",
    "temps pour le voir disparaître dans un large trou au pied d'une haie.\"\"\", speaker='neb')\n",
    "IPython.display.Audio(data=audio, rate=24000)"
   ]
  },
  {
   "cell_type": "code",
   "execution_count": null,
   "id": "5148bc1c",
   "metadata": {},
   "outputs": [],
   "source": [
    "audio=cube(\"«Levez-vous», dit le professeur.\\n\\nIl se leva; sa casquette tomba. Toute la classe se mit à rire. \\n\\nIl se baissa pour la reprendre. Un voisin la fit tomber d'un coup de coude, il la ramassa encore une fois. \\n\\n «Débarrassez-vous donc de votre casque», dit le professeur, qui était un homme d'esprit.\", speaker=\"neb\")\n",
    "IPython.display.Audio(data=audio, rate=24000)   "
   ]
  },
  {
   "cell_type": "code",
   "execution_count": null,
   "id": "524e839b",
   "metadata": {},
   "outputs": [],
   "source": []
  }
 ],
 "metadata": {
  "kernelspec": {
   "display_name": "Python 3 (ipykernel)",
   "language": "python",
   "name": "python3"
  },
  "language_info": {
   "codemirror_mode": {
    "name": "ipython",
    "version": 3
   },
   "file_extension": ".py",
   "mimetype": "text/x-python",
   "name": "python",
   "nbconvert_exporter": "python",
   "pygments_lexer": "ipython3",
   "version": "3.10.9"
  }
 },
 "nbformat": 4,
 "nbformat_minor": 5
}
